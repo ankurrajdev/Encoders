{
 "cells": [
  {
   "cell_type": "markdown",
   "metadata": {},
   "source": [
    "# Encoders"
   ]
  },
  {
   "cell_type": "code",
   "execution_count": 3,
   "metadata": {},
   "outputs": [],
   "source": [
    "import pandas as pd\n",
    "import numpy as np\n",
    "from sleepmind.preprocessing import SumEncoder"
   ]
  },
  {
   "cell_type": "markdown",
   "metadata": {},
   "source": [
    "For the given df below, we will be using the following list of encoders to encode Region ,which is the Categorical Variable, and Salary is the dependent variable"
   ]
  },
  {
   "cell_type": "code",
   "execution_count": 4,
   "metadata": {},
   "outputs": [],
   "source": [
    "df = pd.DataFrame({'Region': ['NY','SF','NY','NY','SF', 'CT'], 'Salary': [100,120,150,130,140, 90]})\n",
    "X = pd.DataFrame(df.Region)\n",
    "y = pd.DataFrame(df.Salary)"
   ]
  },
  {
   "cell_type": "markdown",
   "metadata": {},
   "source": [
    "List of Encoders :-\n",
    "\n",
    "- Sleepmind sum encoder\n",
    "- One hot Encoding\n",
    "- Label Encoding\n",
    "- Categorical Encoders Library\n",
    "    - BackwardDifferenceEncoder\n",
    "    - BinaryEncoder\n",
    "    - HelmertEncoder\n",
    "    - OneHotEncoder\n",
    "    - OrdinalEncoder\n",
    "    - SumEncoder\n",
    "    - PolynomialEncoder\n",
    "    - BaseNEncoder\n",
    "    - TargetEncoder\n",
    "    - LeaveOneOutEncoder\n",
    "- Bayesian Encoders\n",
    "    - Xam_BayesianTargetEncoder\n",
    "    - hcc_BayesEncoding\n",
    "    - hcc_BayesEncodingKfold\n",
    "    - hcc_LOOEncoding\n",
    "    - hcc_LOOEncodingKfold"
   ]
  },
  {
   "cell_type": "markdown",
   "metadata": {},
   "source": [
    "## Sleepmind Sum Encoder"
   ]
  },
  {
   "cell_type": "markdown",
   "metadata": {},
   "source": [
    "https://github.com/IamGianluca/sleepmind/blob/master/sleepmind/preprocessing/sum_encoding.py\n",
    "\n",
    "Logic: mean of the dependent variable which has the class under observation/ mean of the dependent variable for all the other classes\n",
    "\n",
    "Implementation:\n",
    "<br>NY:  ((100+150+130)/3) / ((120+140+90)/3) = 1.0857\n",
    "<br>SF:  ((120+140)/2) / ((100+150+130+90)/4) = 1.106\n",
    "<br>CT:  (90) / ((100+150+130+120+140)/5)"
   ]
  },
  {
   "cell_type": "code",
   "execution_count": 5,
   "metadata": {},
   "outputs": [
    {
     "name": "stdout",
     "output_type": "stream",
     "text": [
      "['NY'] [1.08571429]\n",
      "['SF'] [1.10638298]\n",
      "['NY'] [1.08571429]\n",
      "['NY'] [1.08571429]\n",
      "['SF'] [1.10638298]\n",
      "['CT'] [0.703125]\n"
     ]
    }
   ],
   "source": [
    "from sleepmind.preprocessing import SumEncoder\n",
    "sum_encoder = SumEncoder()\n",
    "encoded_X = sum_encoder.fit_transform(df.Region,df.Salary)\n",
    "\n",
    "for region,value in zip(X.values,encoded_X):\n",
    "    print (region,value)"
   ]
  },
  {
   "cell_type": "markdown",
   "metadata": {},
   "source": [
    "## One Hot Encoding"
   ]
  },
  {
   "cell_type": "markdown",
   "metadata": {},
   "source": [
    "Logic: It creates k new variables where k is the cardinality of the Nominal variable and has the value 1 if the value is present in the original variable else 0.\n",
    "\n",
    "Implementation: Region should be split between 3 columns, Region_CT, Region_NY and Region_SF and has the values  [0, 0, 0, 0, 1], [1, 0, 1, 1, 0] and [0, 1, 0, 0, 1] respectively"
   ]
  },
  {
   "cell_type": "code",
   "execution_count": 94,
   "metadata": {},
   "outputs": [],
   "source": [
    "df_ohe = pd.get_dummies(df, columns=[\"Region\"])"
   ]
  },
  {
   "cell_type": "code",
   "execution_count": 95,
   "metadata": {},
   "outputs": [
    {
     "data": {
      "text/html": [
       "<div>\n",
       "<style scoped>\n",
       "    .dataframe tbody tr th:only-of-type {\n",
       "        vertical-align: middle;\n",
       "    }\n",
       "\n",
       "    .dataframe tbody tr th {\n",
       "        vertical-align: top;\n",
       "    }\n",
       "\n",
       "    .dataframe thead th {\n",
       "        text-align: right;\n",
       "    }\n",
       "</style>\n",
       "<table border=\"1\" class=\"dataframe\">\n",
       "  <thead>\n",
       "    <tr style=\"text-align: right;\">\n",
       "      <th></th>\n",
       "      <th>Salary</th>\n",
       "      <th>Region_CT</th>\n",
       "      <th>Region_NY</th>\n",
       "      <th>Region_SF</th>\n",
       "    </tr>\n",
       "  </thead>\n",
       "  <tbody>\n",
       "    <tr>\n",
       "      <th>0</th>\n",
       "      <td>100</td>\n",
       "      <td>0</td>\n",
       "      <td>1</td>\n",
       "      <td>0</td>\n",
       "    </tr>\n",
       "    <tr>\n",
       "      <th>1</th>\n",
       "      <td>120</td>\n",
       "      <td>0</td>\n",
       "      <td>0</td>\n",
       "      <td>1</td>\n",
       "    </tr>\n",
       "    <tr>\n",
       "      <th>2</th>\n",
       "      <td>150</td>\n",
       "      <td>0</td>\n",
       "      <td>1</td>\n",
       "      <td>0</td>\n",
       "    </tr>\n",
       "    <tr>\n",
       "      <th>3</th>\n",
       "      <td>130</td>\n",
       "      <td>0</td>\n",
       "      <td>1</td>\n",
       "      <td>0</td>\n",
       "    </tr>\n",
       "    <tr>\n",
       "      <th>4</th>\n",
       "      <td>140</td>\n",
       "      <td>0</td>\n",
       "      <td>0</td>\n",
       "      <td>1</td>\n",
       "    </tr>\n",
       "    <tr>\n",
       "      <th>5</th>\n",
       "      <td>90</td>\n",
       "      <td>1</td>\n",
       "      <td>0</td>\n",
       "      <td>0</td>\n",
       "    </tr>\n",
       "  </tbody>\n",
       "</table>\n",
       "</div>"
      ],
      "text/plain": [
       "   Salary  Region_CT  Region_NY  Region_SF\n",
       "0     100          0          1          0\n",
       "1     120          0          0          1\n",
       "2     150          0          1          0\n",
       "3     130          0          1          0\n",
       "4     140          0          0          1\n",
       "5      90          1          0          0"
      ]
     },
     "execution_count": 95,
     "metadata": {},
     "output_type": "execute_result"
    }
   ],
   "source": [
    "df_ohe"
   ]
  },
  {
   "cell_type": "markdown",
   "metadata": {},
   "source": [
    "## Label Encoding"
   ]
  },
  {
   "cell_type": "markdown",
   "metadata": {},
   "source": [
    "Logic: It creates a new column with k-1 values where k is the cardinality of the Ordinal variable.\n",
    "Hence, This is generally used for Ordinal variables.\n",
    "\n",
    "Implementation: Region should be split between k-1 which is 3-1 i.e. 2 values, [1, 2, 1, 1, 2, 0] where 0 represents CT, 1 represents NY, and 2 represents SF\n"
   ]
  },
  {
   "cell_type": "code",
   "execution_count": 96,
   "metadata": {},
   "outputs": [],
   "source": [
    "from sklearn.preprocessing import LabelEncoder"
   ]
  },
  {
   "cell_type": "code",
   "execution_count": 106,
   "metadata": {},
   "outputs": [
    {
     "data": {
      "text/plain": [
       "LabelEncoder()"
      ]
     },
     "execution_count": 106,
     "metadata": {},
     "output_type": "execute_result"
    }
   ],
   "source": [
    "lb = LabelEncoder()\n",
    "lb.fit(df_label_encoding[\"Region\"])"
   ]
  },
  {
   "cell_type": "code",
   "execution_count": 107,
   "metadata": {},
   "outputs": [
    {
     "data": {
      "text/plain": [
       "array([1, 2, 1, 1, 2, 0])"
      ]
     },
     "execution_count": 107,
     "metadata": {},
     "output_type": "execute_result"
    }
   ],
   "source": [
    "lb.transform(X.Region)"
   ]
  },
  {
   "cell_type": "markdown",
   "metadata": {},
   "source": [
    "## Categorical Encoders Library"
   ]
  },
  {
   "cell_type": "code",
   "execution_count": 1,
   "metadata": {},
   "outputs": [],
   "source": [
    "import category_encoders as ce"
   ]
  },
  {
   "cell_type": "markdown",
   "metadata": {},
   "source": [
    "### BackwardDifferenceEncoder"
   ]
  },
  {
   "cell_type": "markdown",
   "metadata": {},
   "source": [
    "Logic : the mean of the dependent variable for a level is compared with the mean of the dependent variable for the prior level. This type of coding may be useful for a **nominal or an ordinal variable**\n",
    "\n",
    "Implementation:\n",
    "First needs to create to ordinal variables such as 1, 2, 3 for the states.\n",
    "It returns k-1 variables which is 3-1 i.e. 2 in our case.\n",
    "\n",
    "Consider the level where NY =1, SF = 2, CT = 3\n",
    "\n",
    "NY = -(k-level_1)/k, -(k-level_2)/k = -(3-1)/3, -(3-2)/3 = -2/3, -1/3\n",
    "SF = level_1/k, -(k-level_2)/k = 1/3, -1/3\n",
    "CT = level_1/k, level_2/k = 1/3, 2/3\n",
    "\n",
    "\n",
    "Implmentation:\n",
    "https://stats.idre.ucla.edu/stata/webbooks/reg/chapter5/regression-with-statachapter-5-additional-coding-systems-for-categorical-variables-in-regressionanalysis/"
   ]
  },
  {
   "cell_type": "code",
   "execution_count": 109,
   "metadata": {},
   "outputs": [
    {
     "data": {
      "text/plain": [
       "BackwardDifferenceEncoder(cols=['Region'], drop_invariant=False,\n",
       "             handle_unknown='impute', impute_missing=True,\n",
       "             mapping=[{'col': 'Region', 'mapping':       [D.1]     [D.2]\n",
       "1 -0.666667 -0.333333\n",
       "2  0.333333 -0.333333\n",
       "3  0.333333  0.666667\n",
       "0  0.000000  0.000000}],\n",
       "             return_df=True, verbose=0)"
      ]
     },
     "execution_count": 109,
     "metadata": {},
     "output_type": "execute_result"
    }
   ],
   "source": [
    "bde = ce.BackwardDifferenceEncoder(cols=['Region'])\n",
    "bde.fit(X)"
   ]
  },
  {
   "cell_type": "code",
   "execution_count": 110,
   "metadata": {},
   "outputs": [
    {
     "data": {
      "text/html": [
       "<div>\n",
       "<style scoped>\n",
       "    .dataframe tbody tr th:only-of-type {\n",
       "        vertical-align: middle;\n",
       "    }\n",
       "\n",
       "    .dataframe tbody tr th {\n",
       "        vertical-align: top;\n",
       "    }\n",
       "\n",
       "    .dataframe thead th {\n",
       "        text-align: right;\n",
       "    }\n",
       "</style>\n",
       "<table border=\"1\" class=\"dataframe\">\n",
       "  <thead>\n",
       "    <tr style=\"text-align: right;\">\n",
       "      <th></th>\n",
       "      <th>intercept</th>\n",
       "      <th>Region_0</th>\n",
       "      <th>Region_1</th>\n",
       "    </tr>\n",
       "  </thead>\n",
       "  <tbody>\n",
       "    <tr>\n",
       "      <th>0</th>\n",
       "      <td>1</td>\n",
       "      <td>-0.666667</td>\n",
       "      <td>-0.333333</td>\n",
       "    </tr>\n",
       "    <tr>\n",
       "      <th>1</th>\n",
       "      <td>1</td>\n",
       "      <td>0.333333</td>\n",
       "      <td>-0.333333</td>\n",
       "    </tr>\n",
       "    <tr>\n",
       "      <th>2</th>\n",
       "      <td>1</td>\n",
       "      <td>-0.666667</td>\n",
       "      <td>-0.333333</td>\n",
       "    </tr>\n",
       "    <tr>\n",
       "      <th>3</th>\n",
       "      <td>1</td>\n",
       "      <td>-0.666667</td>\n",
       "      <td>-0.333333</td>\n",
       "    </tr>\n",
       "    <tr>\n",
       "      <th>4</th>\n",
       "      <td>1</td>\n",
       "      <td>0.333333</td>\n",
       "      <td>-0.333333</td>\n",
       "    </tr>\n",
       "    <tr>\n",
       "      <th>5</th>\n",
       "      <td>1</td>\n",
       "      <td>0.333333</td>\n",
       "      <td>0.666667</td>\n",
       "    </tr>\n",
       "  </tbody>\n",
       "</table>\n",
       "</div>"
      ],
      "text/plain": [
       "   intercept  Region_0  Region_1\n",
       "0          1 -0.666667 -0.333333\n",
       "1          1  0.333333 -0.333333\n",
       "2          1 -0.666667 -0.333333\n",
       "3          1 -0.666667 -0.333333\n",
       "4          1  0.333333 -0.333333\n",
       "5          1  0.333333  0.666667"
      ]
     },
     "execution_count": 110,
     "metadata": {},
     "output_type": "execute_result"
    }
   ],
   "source": [
    "bde.transform(X)"
   ]
  },
  {
   "cell_type": "markdown",
   "metadata": {},
   "source": [
    "### Binary Encoder"
   ]
  },
  {
   "cell_type": "markdown",
   "metadata": {},
   "source": [
    "Logic :  first the categories are encoded as ordinal, then those integers are converted into binary code, then the digits from that binary string are split into separate columns.  This encodes the data in fewer dimensions that one-hot, but with some distortion of the distances.\n",
    "\n",
    "Implmentation:\n",
    "First needs to create to ordinal variables such as 1, 2, 3 for the states.\n",
    "It returns k-1 variables which is 3-1 i.e. 2 in our case.\n",
    "\n",
    "Consider the level where NY =1, SF = 2, CT = 3\n",
    "Since we the cardinality is 3, hence it can be encoded in 2 variables. Since binary for 3 is 1 1.\n",
    "\n",
    "Binary for 1 i.e. NY - 0 1\n",
    "Binary for 2 i.e. SF - 1 0\n",
    "Binary for 3 i.e. NY - 1 1"
   ]
  },
  {
   "cell_type": "code",
   "execution_count": 111,
   "metadata": {},
   "outputs": [
    {
     "data": {
      "text/html": [
       "<div>\n",
       "<style scoped>\n",
       "    .dataframe tbody tr th:only-of-type {\n",
       "        vertical-align: middle;\n",
       "    }\n",
       "\n",
       "    .dataframe tbody tr th {\n",
       "        vertical-align: top;\n",
       "    }\n",
       "\n",
       "    .dataframe thead th {\n",
       "        text-align: right;\n",
       "    }\n",
       "</style>\n",
       "<table border=\"1\" class=\"dataframe\">\n",
       "  <thead>\n",
       "    <tr style=\"text-align: right;\">\n",
       "      <th></th>\n",
       "      <th>Region_0</th>\n",
       "      <th>Region_1</th>\n",
       "      <th>Region_2</th>\n",
       "    </tr>\n",
       "  </thead>\n",
       "  <tbody>\n",
       "    <tr>\n",
       "      <th>0</th>\n",
       "      <td>0</td>\n",
       "      <td>0</td>\n",
       "      <td>1</td>\n",
       "    </tr>\n",
       "    <tr>\n",
       "      <th>1</th>\n",
       "      <td>0</td>\n",
       "      <td>1</td>\n",
       "      <td>0</td>\n",
       "    </tr>\n",
       "    <tr>\n",
       "      <th>2</th>\n",
       "      <td>0</td>\n",
       "      <td>0</td>\n",
       "      <td>1</td>\n",
       "    </tr>\n",
       "    <tr>\n",
       "      <th>3</th>\n",
       "      <td>0</td>\n",
       "      <td>0</td>\n",
       "      <td>1</td>\n",
       "    </tr>\n",
       "    <tr>\n",
       "      <th>4</th>\n",
       "      <td>0</td>\n",
       "      <td>1</td>\n",
       "      <td>0</td>\n",
       "    </tr>\n",
       "    <tr>\n",
       "      <th>5</th>\n",
       "      <td>0</td>\n",
       "      <td>1</td>\n",
       "      <td>1</td>\n",
       "    </tr>\n",
       "  </tbody>\n",
       "</table>\n",
       "</div>"
      ],
      "text/plain": [
       "   Region_0  Region_1  Region_2\n",
       "0         0         0         1\n",
       "1         0         1         0\n",
       "2         0         0         1\n",
       "3         0         0         1\n",
       "4         0         1         0\n",
       "5         0         1         1"
      ]
     },
     "execution_count": 111,
     "metadata": {},
     "output_type": "execute_result"
    }
   ],
   "source": [
    "bin_e = ce.BinaryEncoder(cols=['Region'])\n",
    "bin_e.fit(X)\n",
    "bin_e.fit_transform(X)"
   ]
  },
  {
   "cell_type": "markdown",
   "metadata": {},
   "source": [
    "### Helmert Encoder"
   ]
  },
  {
   "cell_type": "markdown",
   "metadata": {},
   "source": [
    "Logic : the mean of the dependent variable for a level is compared with the mean of the dependent variable for the prior level. This type of coding may be useful for a **an ordinal variable**\n",
    "\n",
    "Implementation:\n",
    "First needs to create to ordinal variables such as 1, 2, 3 for the states.\n",
    "It returns k-1 variables which is 3-1 i.e. 2 in our case.\n",
    "\n",
    "Consider the level where NY =1, SF = 2, CT = 3\n",
    "\n",
    "NY = -(k-level_1)/k, -(k-level_2)/k = -(3-1)/3, -(3-2)/3 = -2/3, -1/3\n",
    "SF = level_1/k, -(k-level_2)/k = 1/3, -1/3\n",
    "CT = level_1/k, level_2/k = 1/3, 2/3\n",
    "\n",
    "\n",
    "Implmentation:\n",
    "https://stats.idre.ucla.edu/stata/webbooks/reg/chapter5/regression-with-statachapter-5-additional-coding-systems-for-categorical-variables-in-regressionanalysis/"
   ]
  },
  {
   "cell_type": "code",
   "execution_count": 116,
   "metadata": {},
   "outputs": [
    {
     "data": {
      "text/html": [
       "<div>\n",
       "<style scoped>\n",
       "    .dataframe tbody tr th:only-of-type {\n",
       "        vertical-align: middle;\n",
       "    }\n",
       "\n",
       "    .dataframe tbody tr th {\n",
       "        vertical-align: top;\n",
       "    }\n",
       "\n",
       "    .dataframe thead th {\n",
       "        text-align: right;\n",
       "    }\n",
       "</style>\n",
       "<table border=\"1\" class=\"dataframe\">\n",
       "  <thead>\n",
       "    <tr style=\"text-align: right;\">\n",
       "      <th></th>\n",
       "      <th>intercept</th>\n",
       "      <th>Region_0</th>\n",
       "      <th>Region_1</th>\n",
       "    </tr>\n",
       "  </thead>\n",
       "  <tbody>\n",
       "    <tr>\n",
       "      <th>0</th>\n",
       "      <td>1</td>\n",
       "      <td>-1.0</td>\n",
       "      <td>-1.0</td>\n",
       "    </tr>\n",
       "    <tr>\n",
       "      <th>1</th>\n",
       "      <td>1</td>\n",
       "      <td>1.0</td>\n",
       "      <td>-1.0</td>\n",
       "    </tr>\n",
       "    <tr>\n",
       "      <th>2</th>\n",
       "      <td>1</td>\n",
       "      <td>-1.0</td>\n",
       "      <td>-1.0</td>\n",
       "    </tr>\n",
       "    <tr>\n",
       "      <th>3</th>\n",
       "      <td>1</td>\n",
       "      <td>-1.0</td>\n",
       "      <td>-1.0</td>\n",
       "    </tr>\n",
       "    <tr>\n",
       "      <th>4</th>\n",
       "      <td>1</td>\n",
       "      <td>1.0</td>\n",
       "      <td>-1.0</td>\n",
       "    </tr>\n",
       "    <tr>\n",
       "      <th>5</th>\n",
       "      <td>1</td>\n",
       "      <td>0.0</td>\n",
       "      <td>2.0</td>\n",
       "    </tr>\n",
       "  </tbody>\n",
       "</table>\n",
       "</div>"
      ],
      "text/plain": [
       "   intercept  Region_0  Region_1\n",
       "0          1      -1.0      -1.0\n",
       "1          1       1.0      -1.0\n",
       "2          1      -1.0      -1.0\n",
       "3          1      -1.0      -1.0\n",
       "4          1       1.0      -1.0\n",
       "5          1       0.0       2.0"
      ]
     },
     "execution_count": 116,
     "metadata": {},
     "output_type": "execute_result"
    }
   ],
   "source": [
    "helmert_encoder = ce.HelmertEncoder(cols=['Region'])\n",
    "helmert_encoder.fit(X)\n",
    "helmert_encoder.transform(X)"
   ]
  },
  {
   "cell_type": "markdown",
   "metadata": {},
   "source": [
    "### One hot Encoder"
   ]
  },
  {
   "cell_type": "markdown",
   "metadata": {},
   "source": [
    "Logic: It creates k new variables where k is the cardinality of the Nominal variable and has the value 1 if the value is present in the original variable else 0.\n",
    "\n",
    "Implementation: Region should be split between 3 columns, Region_CT, Region_NY and Region_SF and has the values  [0, 0, 0, 0, 1], [1, 0, 1, 1, 0] and [0, 1, 0, 0, 1] respectively"
   ]
  },
  {
   "cell_type": "code",
   "execution_count": 117,
   "metadata": {},
   "outputs": [
    {
     "data": {
      "text/html": [
       "<div>\n",
       "<style scoped>\n",
       "    .dataframe tbody tr th:only-of-type {\n",
       "        vertical-align: middle;\n",
       "    }\n",
       "\n",
       "    .dataframe tbody tr th {\n",
       "        vertical-align: top;\n",
       "    }\n",
       "\n",
       "    .dataframe thead th {\n",
       "        text-align: right;\n",
       "    }\n",
       "</style>\n",
       "<table border=\"1\" class=\"dataframe\">\n",
       "  <thead>\n",
       "    <tr style=\"text-align: right;\">\n",
       "      <th></th>\n",
       "      <th>Region_1</th>\n",
       "      <th>Region_2</th>\n",
       "      <th>Region_3</th>\n",
       "      <th>Region_-1</th>\n",
       "    </tr>\n",
       "  </thead>\n",
       "  <tbody>\n",
       "    <tr>\n",
       "      <th>0</th>\n",
       "      <td>1</td>\n",
       "      <td>0</td>\n",
       "      <td>0</td>\n",
       "      <td>0</td>\n",
       "    </tr>\n",
       "    <tr>\n",
       "      <th>1</th>\n",
       "      <td>0</td>\n",
       "      <td>1</td>\n",
       "      <td>0</td>\n",
       "      <td>0</td>\n",
       "    </tr>\n",
       "    <tr>\n",
       "      <th>2</th>\n",
       "      <td>1</td>\n",
       "      <td>0</td>\n",
       "      <td>0</td>\n",
       "      <td>0</td>\n",
       "    </tr>\n",
       "    <tr>\n",
       "      <th>3</th>\n",
       "      <td>1</td>\n",
       "      <td>0</td>\n",
       "      <td>0</td>\n",
       "      <td>0</td>\n",
       "    </tr>\n",
       "    <tr>\n",
       "      <th>4</th>\n",
       "      <td>0</td>\n",
       "      <td>1</td>\n",
       "      <td>0</td>\n",
       "      <td>0</td>\n",
       "    </tr>\n",
       "    <tr>\n",
       "      <th>5</th>\n",
       "      <td>0</td>\n",
       "      <td>0</td>\n",
       "      <td>1</td>\n",
       "      <td>0</td>\n",
       "    </tr>\n",
       "  </tbody>\n",
       "</table>\n",
       "</div>"
      ],
      "text/plain": [
       "   Region_1  Region_2  Region_3  Region_-1\n",
       "0         1         0         0          0\n",
       "1         0         1         0          0\n",
       "2         1         0         0          0\n",
       "3         1         0         0          0\n",
       "4         0         1         0          0\n",
       "5         0         0         1          0"
      ]
     },
     "execution_count": 117,
     "metadata": {},
     "output_type": "execute_result"
    }
   ],
   "source": [
    "ohe = ce.OneHotEncoder(cols=['Region'])\n",
    "ohe.fit_transform(X)\n",
    "ohe.transform(X)"
   ]
  },
  {
   "cell_type": "markdown",
   "metadata": {},
   "source": [
    "### Ordinal Encoder"
   ]
  },
  {
   "cell_type": "markdown",
   "metadata": {},
   "source": [
    "Logic: It creates a new column with k values where k is the cardinality of the Ordinal variable.\n",
    "Hence, This is generally used for Ordinal variavariables.\n",
    "\n",
    "Implementation: Region should be split between k values which is 3 values, [1, 2, 1, 1, 2, 3] where 3 represents CT, 1 represents NY, and 2 represents SF\n"
   ]
  },
  {
   "cell_type": "code",
   "execution_count": 118,
   "metadata": {},
   "outputs": [
    {
     "data": {
      "text/html": [
       "<div>\n",
       "<style scoped>\n",
       "    .dataframe tbody tr th:only-of-type {\n",
       "        vertical-align: middle;\n",
       "    }\n",
       "\n",
       "    .dataframe tbody tr th {\n",
       "        vertical-align: top;\n",
       "    }\n",
       "\n",
       "    .dataframe thead th {\n",
       "        text-align: right;\n",
       "    }\n",
       "</style>\n",
       "<table border=\"1\" class=\"dataframe\">\n",
       "  <thead>\n",
       "    <tr style=\"text-align: right;\">\n",
       "      <th></th>\n",
       "      <th>Region</th>\n",
       "    </tr>\n",
       "  </thead>\n",
       "  <tbody>\n",
       "    <tr>\n",
       "      <th>0</th>\n",
       "      <td>1</td>\n",
       "    </tr>\n",
       "    <tr>\n",
       "      <th>1</th>\n",
       "      <td>2</td>\n",
       "    </tr>\n",
       "    <tr>\n",
       "      <th>2</th>\n",
       "      <td>1</td>\n",
       "    </tr>\n",
       "    <tr>\n",
       "      <th>3</th>\n",
       "      <td>1</td>\n",
       "    </tr>\n",
       "    <tr>\n",
       "      <th>4</th>\n",
       "      <td>2</td>\n",
       "    </tr>\n",
       "    <tr>\n",
       "      <th>5</th>\n",
       "      <td>3</td>\n",
       "    </tr>\n",
       "  </tbody>\n",
       "</table>\n",
       "</div>"
      ],
      "text/plain": [
       "   Region\n",
       "0       1\n",
       "1       2\n",
       "2       1\n",
       "3       1\n",
       "4       2\n",
       "5       3"
      ]
     },
     "execution_count": 118,
     "metadata": {},
     "output_type": "execute_result"
    }
   ],
   "source": [
    "oe = ce.OrdinalEncoder(cols=['Region'])\n",
    "oe.fit(X)\n",
    "oe.transform(X)"
   ]
  },
  {
   "cell_type": "markdown",
   "metadata": {},
   "source": [
    "### Sum Encoder"
   ]
  },
  {
   "cell_type": "markdown",
   "metadata": {},
   "source": [
    "Logic: compares the mean of the dependent variable for a given level to the overall mean of the dependent variable over all the levels. That is, it uses contrasts between each of the first k-1 levels and level k In this example, level 1 is compared to all the others, level 2 to all the others, and level 3 to all the others.\n",
    "Hence, This is generally used for Ordinal variavariables."
   ]
  },
  {
   "cell_type": "code",
   "execution_count": 119,
   "metadata": {},
   "outputs": [
    {
     "data": {
      "text/html": [
       "<div>\n",
       "<style scoped>\n",
       "    .dataframe tbody tr th:only-of-type {\n",
       "        vertical-align: middle;\n",
       "    }\n",
       "\n",
       "    .dataframe tbody tr th {\n",
       "        vertical-align: top;\n",
       "    }\n",
       "\n",
       "    .dataframe thead th {\n",
       "        text-align: right;\n",
       "    }\n",
       "</style>\n",
       "<table border=\"1\" class=\"dataframe\">\n",
       "  <thead>\n",
       "    <tr style=\"text-align: right;\">\n",
       "      <th></th>\n",
       "      <th>intercept</th>\n",
       "      <th>Region_0</th>\n",
       "      <th>Region_1</th>\n",
       "    </tr>\n",
       "  </thead>\n",
       "  <tbody>\n",
       "    <tr>\n",
       "      <th>0</th>\n",
       "      <td>1</td>\n",
       "      <td>1.0</td>\n",
       "      <td>0.0</td>\n",
       "    </tr>\n",
       "    <tr>\n",
       "      <th>1</th>\n",
       "      <td>1</td>\n",
       "      <td>0.0</td>\n",
       "      <td>1.0</td>\n",
       "    </tr>\n",
       "    <tr>\n",
       "      <th>2</th>\n",
       "      <td>1</td>\n",
       "      <td>1.0</td>\n",
       "      <td>0.0</td>\n",
       "    </tr>\n",
       "    <tr>\n",
       "      <th>3</th>\n",
       "      <td>1</td>\n",
       "      <td>1.0</td>\n",
       "      <td>0.0</td>\n",
       "    </tr>\n",
       "    <tr>\n",
       "      <th>4</th>\n",
       "      <td>1</td>\n",
       "      <td>0.0</td>\n",
       "      <td>1.0</td>\n",
       "    </tr>\n",
       "    <tr>\n",
       "      <th>5</th>\n",
       "      <td>1</td>\n",
       "      <td>-1.0</td>\n",
       "      <td>-1.0</td>\n",
       "    </tr>\n",
       "  </tbody>\n",
       "</table>\n",
       "</div>"
      ],
      "text/plain": [
       "   intercept  Region_0  Region_1\n",
       "0          1       1.0       0.0\n",
       "1          1       0.0       1.0\n",
       "2          1       1.0       0.0\n",
       "3          1       1.0       0.0\n",
       "4          1       0.0       1.0\n",
       "5          1      -1.0      -1.0"
      ]
     },
     "execution_count": 119,
     "metadata": {},
     "output_type": "execute_result"
    }
   ],
   "source": [
    "se = ce.SumEncoder(cols=['Region'])\n",
    "se.fit(X)\n",
    "se.transform(X)"
   ]
  },
  {
   "cell_type": "markdown",
   "metadata": {},
   "source": [
    "### Polynomial Encoding"
   ]
  },
  {
   "cell_type": "markdown",
   "metadata": {},
   "source": [
    "Logic:  The coefficients taken on by polynomial coding for k=4 levels are the linear, quadratic, and cubic trends in the categorical variable. The categorical variable here is assumed to be represented by an underlying, equally spaced numeric variable. Therefore, this type of encoding is used only for ordered categorical variables with equal spacing.\n",
    "\n",
    "Implementation:"
   ]
  },
  {
   "cell_type": "code",
   "execution_count": 120,
   "metadata": {},
   "outputs": [
    {
     "data": {
      "text/html": [
       "<div>\n",
       "<style scoped>\n",
       "    .dataframe tbody tr th:only-of-type {\n",
       "        vertical-align: middle;\n",
       "    }\n",
       "\n",
       "    .dataframe tbody tr th {\n",
       "        vertical-align: top;\n",
       "    }\n",
       "\n",
       "    .dataframe thead th {\n",
       "        text-align: right;\n",
       "    }\n",
       "</style>\n",
       "<table border=\"1\" class=\"dataframe\">\n",
       "  <thead>\n",
       "    <tr style=\"text-align: right;\">\n",
       "      <th></th>\n",
       "      <th>intercept</th>\n",
       "      <th>Region_0</th>\n",
       "      <th>Region_1</th>\n",
       "    </tr>\n",
       "  </thead>\n",
       "  <tbody>\n",
       "    <tr>\n",
       "      <th>0</th>\n",
       "      <td>1</td>\n",
       "      <td>-7.071068e-01</td>\n",
       "      <td>0.408248</td>\n",
       "    </tr>\n",
       "    <tr>\n",
       "      <th>1</th>\n",
       "      <td>1</td>\n",
       "      <td>-5.551115e-17</td>\n",
       "      <td>-0.816497</td>\n",
       "    </tr>\n",
       "    <tr>\n",
       "      <th>2</th>\n",
       "      <td>1</td>\n",
       "      <td>-7.071068e-01</td>\n",
       "      <td>0.408248</td>\n",
       "    </tr>\n",
       "    <tr>\n",
       "      <th>3</th>\n",
       "      <td>1</td>\n",
       "      <td>-7.071068e-01</td>\n",
       "      <td>0.408248</td>\n",
       "    </tr>\n",
       "    <tr>\n",
       "      <th>4</th>\n",
       "      <td>1</td>\n",
       "      <td>-5.551115e-17</td>\n",
       "      <td>-0.816497</td>\n",
       "    </tr>\n",
       "    <tr>\n",
       "      <th>5</th>\n",
       "      <td>1</td>\n",
       "      <td>7.071068e-01</td>\n",
       "      <td>0.408248</td>\n",
       "    </tr>\n",
       "  </tbody>\n",
       "</table>\n",
       "</div>"
      ],
      "text/plain": [
       "   intercept      Region_0  Region_1\n",
       "0          1 -7.071068e-01  0.408248\n",
       "1          1 -5.551115e-17 -0.816497\n",
       "2          1 -7.071068e-01  0.408248\n",
       "3          1 -7.071068e-01  0.408248\n",
       "4          1 -5.551115e-17 -0.816497\n",
       "5          1  7.071068e-01  0.408248"
      ]
     },
     "execution_count": 120,
     "metadata": {},
     "output_type": "execute_result"
    }
   ],
   "source": [
    "pe = ce.PolynomialEncoder(cols=['Region'])\n",
    "pe.fit(X)\n",
    "pe.transform(X)"
   ]
  },
  {
   "cell_type": "markdown",
   "metadata": {},
   "source": [
    "### BaseN Encoding"
   ]
  },
  {
   "cell_type": "markdown",
   "metadata": {},
   "source": [
    "Logic :  first the categories are encoded as ordinal, then those integers are converted into BaseN code (Binary when k =3) code, then the digits from that string are split into separate columns.  This encodes the data in fewer dimensions that one-hot, but with some distortion of the distances.\n",
    "\n",
    "Implmentation:\n",
    "First needs to create to ordinal variables such as 1, 2, 3 for the states.\n",
    "It returns k-1 variables which is 3-1 i.e. 2 in our case.\n",
    "\n",
    "Consider the level where NY =1, SF = 2, CT = 3\n",
    "Since we the cardinality is 3, hence it can be encoded in 2 variables. Since binary for 3 is 1 1.\n",
    "\n",
    "Binary for 1 i.e. NY - 0 1\n",
    "Binary for 2 i.e. SF - 1 0\n",
    "Binary for 3 i.e. CT - 1 1"
   ]
  },
  {
   "cell_type": "code",
   "execution_count": 122,
   "metadata": {},
   "outputs": [
    {
     "data": {
      "text/html": [
       "<div>\n",
       "<style scoped>\n",
       "    .dataframe tbody tr th:only-of-type {\n",
       "        vertical-align: middle;\n",
       "    }\n",
       "\n",
       "    .dataframe tbody tr th {\n",
       "        vertical-align: top;\n",
       "    }\n",
       "\n",
       "    .dataframe thead th {\n",
       "        text-align: right;\n",
       "    }\n",
       "</style>\n",
       "<table border=\"1\" class=\"dataframe\">\n",
       "  <thead>\n",
       "    <tr style=\"text-align: right;\">\n",
       "      <th></th>\n",
       "      <th>Region_0</th>\n",
       "      <th>Region_1</th>\n",
       "      <th>Region_2</th>\n",
       "    </tr>\n",
       "  </thead>\n",
       "  <tbody>\n",
       "    <tr>\n",
       "      <th>0</th>\n",
       "      <td>0</td>\n",
       "      <td>0</td>\n",
       "      <td>1</td>\n",
       "    </tr>\n",
       "    <tr>\n",
       "      <th>1</th>\n",
       "      <td>0</td>\n",
       "      <td>1</td>\n",
       "      <td>0</td>\n",
       "    </tr>\n",
       "    <tr>\n",
       "      <th>2</th>\n",
       "      <td>0</td>\n",
       "      <td>0</td>\n",
       "      <td>1</td>\n",
       "    </tr>\n",
       "    <tr>\n",
       "      <th>3</th>\n",
       "      <td>0</td>\n",
       "      <td>0</td>\n",
       "      <td>1</td>\n",
       "    </tr>\n",
       "    <tr>\n",
       "      <th>4</th>\n",
       "      <td>0</td>\n",
       "      <td>1</td>\n",
       "      <td>0</td>\n",
       "    </tr>\n",
       "    <tr>\n",
       "      <th>5</th>\n",
       "      <td>0</td>\n",
       "      <td>1</td>\n",
       "      <td>1</td>\n",
       "    </tr>\n",
       "  </tbody>\n",
       "</table>\n",
       "</div>"
      ],
      "text/plain": [
       "   Region_0  Region_1  Region_2\n",
       "0         0         0         1\n",
       "1         0         1         0\n",
       "2         0         0         1\n",
       "3         0         0         1\n",
       "4         0         1         0\n",
       "5         0         1         1"
      ]
     },
     "execution_count": 122,
     "metadata": {},
     "output_type": "execute_result"
    }
   ],
   "source": [
    "base_ne = ce.BaseNEncoder(cols=['Region'])\n",
    "base_ne.fit(X)\n",
    "base_ne.transform(X)"
   ]
  },
  {
   "cell_type": "markdown",
   "metadata": {},
   "source": [
    "### Target Encoder"
   ]
  },
  {
   "cell_type": "markdown",
   "metadata": {},
   "source": [
    "Logic : The mean of the dependent variable is smoothened according to the implementation shown belowTargetEncoding returns a weighted average of p(y|x) and p(y).\n",
    "\n",
    "\n",
    "Implmentation: \n",
    "\n",
    "<br>prior - np.mean(df.Salary)\n",
    "<br>Consider the level where NY =1, SF = 2, CT = 3\n",
    "<br>tmp ={'CT': {'sum': 90, 'count': 1, 'mean': 90.0}, 'NY': {'sum': 380, 'count': 3, 'mean': 126.66666666666667}, 'SF': {'sum': 260, 'count': 2, 'mean': 130.0}}\n",
    "<br>smoothing = 1 / (1 + np.exp(-(tmp[val][\"count\"] - min_samples_leaf) / smoothing))\n",
    "<br>cust_smoothing = prior * (1 - smoothing) + tmp[val]['mean'] * smoothing\n",
    "<br>tmp[val]['smoothing'] = cust_smoothing\n",
    "<br>if count =1, value = np.mean(df['Salary')\n",
    "<br>min_samples_leaf =1 \n",
    "\n",
    "http://dx.doi.org/10.1145/507533.507538"
   ]
  },
  {
   "cell_type": "code",
   "execution_count": 126,
   "metadata": {},
   "outputs": [
    {
     "data": {
      "text/plain": [
       "TargetEncoder(cols=['Region'], drop_invariant=False, handle_unknown='impute',\n",
       "       impute_missing=True, min_samples_leaf=1, return_df=True,\n",
       "       smoothing=1.0, verbose=0)"
      ]
     },
     "execution_count": 126,
     "metadata": {},
     "output_type": "execute_result"
    }
   ],
   "source": [
    "te = ce.TargetEncoder(cols=['Region'])\n",
    "te.fit(X, y)"
   ]
  },
  {
   "cell_type": "code",
   "execution_count": 127,
   "metadata": {},
   "outputs": [
    {
     "data": {
      "text/html": [
       "<div>\n",
       "<style scoped>\n",
       "    .dataframe tbody tr th:only-of-type {\n",
       "        vertical-align: middle;\n",
       "    }\n",
       "\n",
       "    .dataframe tbody tr th {\n",
       "        vertical-align: top;\n",
       "    }\n",
       "\n",
       "    .dataframe thead th {\n",
       "        text-align: right;\n",
       "    }\n",
       "</style>\n",
       "<table border=\"1\" class=\"dataframe\">\n",
       "  <thead>\n",
       "    <tr style=\"text-align: right;\">\n",
       "      <th></th>\n",
       "      <th>Region</th>\n",
       "    </tr>\n",
       "  </thead>\n",
       "  <tbody>\n",
       "    <tr>\n",
       "      <th>0</th>\n",
       "      <td>126.070652</td>\n",
       "    </tr>\n",
       "    <tr>\n",
       "      <th>1</th>\n",
       "      <td>127.758821</td>\n",
       "    </tr>\n",
       "    <tr>\n",
       "      <th>2</th>\n",
       "      <td>126.070652</td>\n",
       "    </tr>\n",
       "    <tr>\n",
       "      <th>3</th>\n",
       "      <td>126.070652</td>\n",
       "    </tr>\n",
       "    <tr>\n",
       "      <th>4</th>\n",
       "      <td>127.758821</td>\n",
       "    </tr>\n",
       "    <tr>\n",
       "      <th>5</th>\n",
       "      <td>121.666667</td>\n",
       "    </tr>\n",
       "  </tbody>\n",
       "</table>\n",
       "</div>"
      ],
      "text/plain": [
       "       Region\n",
       "0  126.070652\n",
       "1  127.758821\n",
       "2  126.070652\n",
       "3  126.070652\n",
       "4  127.758821\n",
       "5  121.666667"
      ]
     },
     "execution_count": 127,
     "metadata": {},
     "output_type": "execute_result"
    }
   ],
   "source": [
    "te.transform(X)"
   ]
  },
  {
   "cell_type": "markdown",
   "metadata": {},
   "source": [
    "### Leave One Out Encoder"
   ]
  },
  {
   "cell_type": "markdown",
   "metadata": {},
   "source": [
    "Logic :\n",
    " LeaveOneOut does not calculate the average - it just returns an estimate of p(y|x\n",
    " LeaveOneOut performs leave-one-out estimation of p(y|x) - it excludes the current row from the estimate. TargetEncoding does not do that - it is using even the current row.\n",
    " Hence it has different transformation for training and test set. For training, it will remove the current row from calculation. And it won't do that for test data\n",
    "\n",
    "\n",
    "Implmentation: The mean of the salary per region is the encoded value for the categorical variable.\n",
    "As we can see, the encoded value for:\n",
    "NY = (100+150+130)/3\n",
    "SF = (140+120)/2\n",
    "CT = (90)/1\n",
    "\n",
    "https://pkghosh.wordpress.com/2018/06/18/leave-one-out-encoding-for-categorical-feature-variables-on-spark/"
   ]
  },
  {
   "cell_type": "code",
   "execution_count": 128,
   "metadata": {},
   "outputs": [
    {
     "data": {
      "text/plain": [
       "LeaveOneOutEncoder(cols=['Region'], drop_invariant=False,\n",
       "          handle_unknown='impute', impute_missing=True, random_state=None,\n",
       "          randomized=False, return_df=True, sigma=0.05, verbose=0)"
      ]
     },
     "execution_count": 128,
     "metadata": {},
     "output_type": "execute_result"
    }
   ],
   "source": [
    "loo = ce.LeaveOneOutEncoder(cols=['Region'])\n",
    "loo.fit(X, y)"
   ]
  },
  {
   "cell_type": "code",
   "execution_count": 130,
   "metadata": {},
   "outputs": [
    {
     "data": {
      "text/html": [
       "<div>\n",
       "<style scoped>\n",
       "    .dataframe tbody tr th:only-of-type {\n",
       "        vertical-align: middle;\n",
       "    }\n",
       "\n",
       "    .dataframe tbody tr th {\n",
       "        vertical-align: top;\n",
       "    }\n",
       "\n",
       "    .dataframe thead th {\n",
       "        text-align: right;\n",
       "    }\n",
       "</style>\n",
       "<table border=\"1\" class=\"dataframe\">\n",
       "  <thead>\n",
       "    <tr style=\"text-align: right;\">\n",
       "      <th></th>\n",
       "      <th>Region</th>\n",
       "    </tr>\n",
       "  </thead>\n",
       "  <tbody>\n",
       "    <tr>\n",
       "      <th>0</th>\n",
       "      <td>126.666667</td>\n",
       "    </tr>\n",
       "    <tr>\n",
       "      <th>1</th>\n",
       "      <td>130.000000</td>\n",
       "    </tr>\n",
       "    <tr>\n",
       "      <th>2</th>\n",
       "      <td>126.666667</td>\n",
       "    </tr>\n",
       "    <tr>\n",
       "      <th>3</th>\n",
       "      <td>126.666667</td>\n",
       "    </tr>\n",
       "    <tr>\n",
       "      <th>4</th>\n",
       "      <td>130.000000</td>\n",
       "    </tr>\n",
       "    <tr>\n",
       "      <th>5</th>\n",
       "      <td>90.000000</td>\n",
       "    </tr>\n",
       "  </tbody>\n",
       "</table>\n",
       "</div>"
      ],
      "text/plain": [
       "       Region\n",
       "0  126.666667\n",
       "1  130.000000\n",
       "2  126.666667\n",
       "3  126.666667\n",
       "4  130.000000\n",
       "5   90.000000"
      ]
     },
     "execution_count": 130,
     "metadata": {},
     "output_type": "execute_result"
    }
   ],
   "source": [
    "loo.transform(X)"
   ]
  },
  {
   "cell_type": "markdown",
   "metadata": {},
   "source": [
    "## Bayesian Encoders\n",
    "### Xam_BayesianTargetEncoder"
   ]
  },
  {
   "cell_type": "markdown",
   "metadata": {},
   "source": [
    "https://github.com/MaxHalford/xam/blob/master/xam/feature_extraction/encoding/bayesian_target.py\n",
    "\n",
    "Logic: It calculates the posteriors using the priors as shown below: \n",
    "        <br>prior_ = y.mean()\n",
    "        <br>result = pw * prior_ + counts * means) / (pw + counts))\n",
    "        where \n",
    "        y = dependent variable\n",
    "        pw = prior weights (needs to be optimised)\n",
    "        counts = count for the dependent variable (y) variable for that categorical value\n",
    "        means = mean for the dependent variable (y) variable for that categorical value\n",
    "\n",
    "Implementation:<br>\n",
    "* prior_ = (100+120+150+130+140)/5 =121.66666666666667\n",
    "* pw = 3\n",
    "* counts : <br><t>NY:3 <br>SF:2 <br>CT:1\n",
    "  \n",
    "* means :  <br>NY:126.666667 <br>SF:130 <br>CT:90\n",
    "    \n",
    "* result: <br>NY:(3*121.66666666666667 + 3*126.666667)/(3+3) = 124.16666683333334 <br>SF:(3*121.66666666666667 + 2*130)/(5) = 125<br> CT:  (3*121.66666666666667 + 1*90)/(4) = 113.75"
   ]
  },
  {
   "cell_type": "code",
   "execution_count": 6,
   "metadata": {},
   "outputs": [],
   "source": [
    "X_xam = X.copy()"
   ]
  },
  {
   "cell_type": "code",
   "execution_count": 7,
   "metadata": {},
   "outputs": [
    {
     "name": "stdout",
     "output_type": "stream",
     "text": [
      "['NY'] [124.16666667]\n",
      "['SF'] [125.]\n",
      "['NY'] [124.16666667]\n",
      "['NY'] [124.16666667]\n",
      "['SF'] [125.]\n",
      "['CT'] [113.75]\n"
     ]
    }
   ],
   "source": [
    "from xam.feature_extraction import BayesianTargetEncoder\n",
    "xam_encoder = BayesianTargetEncoder(\n",
    "            columns=['Region'],\n",
    "            prior_weight=3,\n",
    "            suffix='')\n",
    "encoded_X = xam_encoder.fit_transform(X_xam,y.Salary)\n",
    "for region,value in zip(X.values,encoded_X.values):\n",
    "    print (region,value)"
   ]
  },
  {
   "cell_type": "markdown",
   "metadata": {},
   "source": [
    "### hcc_BayesEncoding\n",
    "\n",
    "https://github.com/Robin888/hccEncoding-project/blob/master/hccEncoding/EncoderForRegression.py\n",
    "\n",
    "Logic: It calculates the posteriors using the priors as shown below: \n",
    "    <br>count = count()\n",
    "    <br>prior = y.mean()\n",
    "    <br>means = Sample means grouped by categorical variable\n",
    "    <br>B=1/(1+np.exp(-1*(count-k)/f))\n",
    "    <br>result = mean * B + (1-B) * prior\n",
    "    <br>where \n",
    "    <br> y = dependent variable\n",
    "    <br> k [default=5] - parameter for BayesEncoding and BayesEncodingKfold, determines half of the minimal sample size of which we completely ‘trust’ the estimate of transition between the cell’s posterior probability and the prior probability\n",
    "    <br> f [default=1] - parameter for BayesEncoding and BayesEncodingKfold,controls how quickly the weight changes from the prior to the posterior as the size of the group increases, to further understand k and f’s meaning\n",
    "    \n",
    "Implementation:<br>\n",
    "* counts : <br><t>NY:3 <br>SF:2 <br>CT:1\n",
    "  \n",
    "* means :  <br>NY:126.666667 <br>SF:130 <br>CT:90\n",
    "* prior = (100+120+150+130+140)/5 =121.66666666666667\n",
    "* f : 1\n",
    "* k : 5\n",
    "<br>\n",
    "* B :<br>NY: 1/(1+np.exp(-1*(3-5)/1)) = 0.11920292202211755\n",
    "     <br>SF: 1/(1+np.exp(-1*(2-5)/1)) = 0.04742587317756678 \n",
    "     <br>CT: 1/(1+np.exp(-1*(1-5)/1)) = 0.01798620996209156\n",
    "   \n",
    "* result:\n",
    "     <br>NY: 0.11920292202211755*126.666667 + (1-0.11920292202211755)*121.66666666666667 = 122.26268131651156\n",
    "     <br>SF: 0.04742587317756678*130 + (1-0.04742587317756678)*121.66666666666667 = 122.06188227647972\n",
    "     <br>CT: 0.01798620996209156*130 + (1-0.01798620996209156)*121.66666666666667 = 121.8165517496841"
   ]
  },
  {
   "cell_type": "code",
   "execution_count": 8,
   "metadata": {},
   "outputs": [
    {
     "data": {
      "text/html": [
       "<div>\n",
       "<style scoped>\n",
       "    .dataframe tbody tr th:only-of-type {\n",
       "        vertical-align: middle;\n",
       "    }\n",
       "\n",
       "    .dataframe tbody tr th {\n",
       "        vertical-align: top;\n",
       "    }\n",
       "\n",
       "    .dataframe thead th {\n",
       "        text-align: right;\n",
       "    }\n",
       "</style>\n",
       "<table border=\"1\" class=\"dataframe\">\n",
       "  <thead>\n",
       "    <tr style=\"text-align: right;\">\n",
       "      <th></th>\n",
       "      <th>Region</th>\n",
       "      <th>Salary</th>\n",
       "      <th>bayes_Region</th>\n",
       "    </tr>\n",
       "  </thead>\n",
       "  <tbody>\n",
       "    <tr>\n",
       "      <th>0</th>\n",
       "      <td>NY</td>\n",
       "      <td>100</td>\n",
       "      <td>122.262681</td>\n",
       "    </tr>\n",
       "    <tr>\n",
       "      <th>1</th>\n",
       "      <td>SF</td>\n",
       "      <td>120</td>\n",
       "      <td>122.061882</td>\n",
       "    </tr>\n",
       "    <tr>\n",
       "      <th>2</th>\n",
       "      <td>NY</td>\n",
       "      <td>150</td>\n",
       "      <td>122.262681</td>\n",
       "    </tr>\n",
       "    <tr>\n",
       "      <th>3</th>\n",
       "      <td>NY</td>\n",
       "      <td>130</td>\n",
       "      <td>122.262681</td>\n",
       "    </tr>\n",
       "    <tr>\n",
       "      <th>4</th>\n",
       "      <td>SF</td>\n",
       "      <td>140</td>\n",
       "      <td>122.061882</td>\n",
       "    </tr>\n",
       "    <tr>\n",
       "      <th>5</th>\n",
       "      <td>CT</td>\n",
       "      <td>90</td>\n",
       "      <td>121.097103</td>\n",
       "    </tr>\n",
       "  </tbody>\n",
       "</table>\n",
       "</div>"
      ],
      "text/plain": [
       "  Region  Salary  bayes_Region\n",
       "0     NY     100    122.262681\n",
       "1     SF     120    122.061882\n",
       "2     NY     150    122.262681\n",
       "3     NY     130    122.262681\n",
       "4     SF     140    122.061882\n",
       "5     CT      90    121.097103"
      ]
     },
     "execution_count": 8,
     "metadata": {},
     "output_type": "execute_result"
    }
   ],
   "source": [
    "from hccEncoding.EncoderForRegression import BayesEncoding\n",
    "\n",
    "X_train, X_test=BayesEncoding(train=df,test=df,target='Salary', feature='Region', drop_origin_feature=False, noise=0)\n",
    "X_train\n"
   ]
  },
  {
   "cell_type": "markdown",
   "metadata": {},
   "source": [
    "### hcc_BayesEncodingKfold\n",
    "\n",
    "https://github.com/Robin888/hccEncoding-project/blob/master/hccEncoding/EncoderForRegression.py\n",
    "\n",
    "Logic: It calculates the encoded value using the BayesEncoding as shown above with KfoldcrossValidation \n",
    "   "
   ]
  },
  {
   "cell_type": "code",
   "execution_count": 41,
   "metadata": {},
   "outputs": [
    {
     "data": {
      "text/html": [
       "<div>\n",
       "<style scoped>\n",
       "    .dataframe tbody tr th:only-of-type {\n",
       "        vertical-align: middle;\n",
       "    }\n",
       "\n",
       "    .dataframe tbody tr th {\n",
       "        vertical-align: top;\n",
       "    }\n",
       "\n",
       "    .dataframe thead th {\n",
       "        text-align: right;\n",
       "    }\n",
       "</style>\n",
       "<table border=\"1\" class=\"dataframe\">\n",
       "  <thead>\n",
       "    <tr style=\"text-align: right;\">\n",
       "      <th></th>\n",
       "      <th>Region</th>\n",
       "      <th>Salary</th>\n",
       "      <th>bayes_Region</th>\n",
       "    </tr>\n",
       "  </thead>\n",
       "  <tbody>\n",
       "    <tr>\n",
       "      <th>0</th>\n",
       "      <td>NY</td>\n",
       "      <td>100</td>\n",
       "      <td>128.092823</td>\n",
       "    </tr>\n",
       "    <tr>\n",
       "      <th>1</th>\n",
       "      <td>SF</td>\n",
       "      <td>120</td>\n",
       "      <td>127.724828</td>\n",
       "    </tr>\n",
       "    <tr>\n",
       "      <th>2</th>\n",
       "      <td>NY</td>\n",
       "      <td>150</td>\n",
       "      <td>115.952574</td>\n",
       "    </tr>\n",
       "    <tr>\n",
       "      <th>3</th>\n",
       "      <td>NY</td>\n",
       "      <td>130</td>\n",
       "      <td>120.237129</td>\n",
       "    </tr>\n",
       "    <tr>\n",
       "      <th>4</th>\n",
       "      <td>SF</td>\n",
       "      <td>140</td>\n",
       "      <td>118.035972</td>\n",
       "    </tr>\n",
       "    <tr>\n",
       "      <th>5</th>\n",
       "      <td>CT</td>\n",
       "      <td>90</td>\n",
       "      <td>128.000000</td>\n",
       "    </tr>\n",
       "  </tbody>\n",
       "</table>\n",
       "</div>"
      ],
      "text/plain": [
       "  Region  Salary  bayes_Region\n",
       "0     NY     100    128.092823\n",
       "1     SF     120    127.724828\n",
       "2     NY     150    115.952574\n",
       "3     NY     130    120.237129\n",
       "4     SF     140    118.035972\n",
       "5     CT      90    128.000000"
      ]
     },
     "execution_count": 41,
     "metadata": {},
     "output_type": "execute_result"
    }
   ],
   "source": [
    "from hccEncoding.EncoderForRegression import BayesEncodingKfold\n",
    "\n",
    "X_train, X_test=BayesEncodingKfold(train=df,test=df,target='Salary', feature='Region', drop_origin_feature=False, noise=0)\n",
    "X_train"
   ]
  },
  {
   "cell_type": "markdown",
   "metadata": {},
   "source": [
    "### hcc_LOOEncoding\n",
    "\n",
    "https://github.com/Robin888/hccEncoding-project/blob/master/hccEncoding/EncoderForRegression.py\n",
    "\n",
    "Logic: It calculates the new variable on the basis of following \n",
    "* sum = sum of target grouped by the categorical variable we want to encode\n",
    "* count =  count of target grouped by the categorical variable we want to encode\n",
    "* target = dependent variable (y)\n",
    "\n",
    "Implementation:\n",
    "* sum:<br> NY: 380 <br> SF: 260 <br> CT: 90\n",
    "* counts : <br>NY:3 <br>SF:2 <br>CT:1<br>\n",
    "* results : \n",
    "   <br>NY: (380 - 100)/(3-1) = 140\n",
    "   <br>SF: (260 - 120)/(2-1) = 140\n",
    "   <br>NY: (380 - 150)/(3-1) = 115\n",
    "   <br>NY: (380 - 130)/(3-1) = 125\n",
    "   <br>SF: (260 - 140)/(2-1) = 120\n",
    "   <br>CT: (180 - 90)/2 = 90\n",
    " \n",
    "for test dataset: it takes the avg of the new column made\n",
    "Why not taking averages as it is same as taking avg"
   ]
  },
  {
   "cell_type": "code",
   "execution_count": 4,
   "metadata": {},
   "outputs": [
    {
     "data": {
      "text/html": [
       "<div>\n",
       "<style scoped>\n",
       "    .dataframe tbody tr th:only-of-type {\n",
       "        vertical-align: middle;\n",
       "    }\n",
       "\n",
       "    .dataframe tbody tr th {\n",
       "        vertical-align: top;\n",
       "    }\n",
       "\n",
       "    .dataframe thead th {\n",
       "        text-align: right;\n",
       "    }\n",
       "</style>\n",
       "<table border=\"1\" class=\"dataframe\">\n",
       "  <thead>\n",
       "    <tr style=\"text-align: right;\">\n",
       "      <th></th>\n",
       "      <th>Region</th>\n",
       "      <th>Salary</th>\n",
       "      <th>loo_Region</th>\n",
       "    </tr>\n",
       "  </thead>\n",
       "  <tbody>\n",
       "    <tr>\n",
       "      <th>0</th>\n",
       "      <td>NY</td>\n",
       "      <td>100</td>\n",
       "      <td>140.0</td>\n",
       "    </tr>\n",
       "    <tr>\n",
       "      <th>1</th>\n",
       "      <td>SF</td>\n",
       "      <td>120</td>\n",
       "      <td>140.0</td>\n",
       "    </tr>\n",
       "    <tr>\n",
       "      <th>2</th>\n",
       "      <td>NY</td>\n",
       "      <td>150</td>\n",
       "      <td>115.0</td>\n",
       "    </tr>\n",
       "    <tr>\n",
       "      <th>3</th>\n",
       "      <td>NY</td>\n",
       "      <td>130</td>\n",
       "      <td>125.0</td>\n",
       "    </tr>\n",
       "    <tr>\n",
       "      <th>4</th>\n",
       "      <td>SF</td>\n",
       "      <td>140</td>\n",
       "      <td>120.0</td>\n",
       "    </tr>\n",
       "    <tr>\n",
       "      <th>5</th>\n",
       "      <td>CT</td>\n",
       "      <td>90</td>\n",
       "      <td>90.0</td>\n",
       "    </tr>\n",
       "  </tbody>\n",
       "</table>\n",
       "</div>"
      ],
      "text/plain": [
       "  Region  Salary  loo_Region\n",
       "0     NY     100       140.0\n",
       "1     SF     120       140.0\n",
       "2     NY     150       115.0\n",
       "3     NY     130       125.0\n",
       "4     SF     140       120.0\n",
       "5     CT      90        90.0"
      ]
     },
     "execution_count": 4,
     "metadata": {},
     "output_type": "execute_result"
    }
   ],
   "source": [
    "from hccEncoding.EncoderForRegression import LOOEncoding\n",
    "\n",
    "X_train, X_test=LOOEncoding(train=df,test=df[0:4],target='Salary', feature='Region', drop_origin_feature=False, noise=0)\n",
    "X_train"
   ]
  },
  {
   "cell_type": "code",
   "execution_count": 46,
   "metadata": {},
   "outputs": [
    {
     "data": {
      "text/html": [
       "<div>\n",
       "<style scoped>\n",
       "    .dataframe tbody tr th:only-of-type {\n",
       "        vertical-align: middle;\n",
       "    }\n",
       "\n",
       "    .dataframe tbody tr th {\n",
       "        vertical-align: top;\n",
       "    }\n",
       "\n",
       "    .dataframe thead th {\n",
       "        text-align: right;\n",
       "    }\n",
       "</style>\n",
       "<table border=\"1\" class=\"dataframe\">\n",
       "  <thead>\n",
       "    <tr style=\"text-align: right;\">\n",
       "      <th></th>\n",
       "      <th>Region</th>\n",
       "      <th>Salary</th>\n",
       "      <th>loo_Region</th>\n",
       "    </tr>\n",
       "  </thead>\n",
       "  <tbody>\n",
       "    <tr>\n",
       "      <th>0</th>\n",
       "      <td>NY</td>\n",
       "      <td>100</td>\n",
       "      <td>126.666667</td>\n",
       "    </tr>\n",
       "    <tr>\n",
       "      <th>1</th>\n",
       "      <td>SF</td>\n",
       "      <td>120</td>\n",
       "      <td>130.000000</td>\n",
       "    </tr>\n",
       "    <tr>\n",
       "      <th>2</th>\n",
       "      <td>NY</td>\n",
       "      <td>150</td>\n",
       "      <td>126.666667</td>\n",
       "    </tr>\n",
       "    <tr>\n",
       "      <th>3</th>\n",
       "      <td>NY</td>\n",
       "      <td>130</td>\n",
       "      <td>126.666667</td>\n",
       "    </tr>\n",
       "    <tr>\n",
       "      <th>4</th>\n",
       "      <td>SF</td>\n",
       "      <td>140</td>\n",
       "      <td>130.000000</td>\n",
       "    </tr>\n",
       "    <tr>\n",
       "      <th>5</th>\n",
       "      <td>CT</td>\n",
       "      <td>90</td>\n",
       "      <td>90.000000</td>\n",
       "    </tr>\n",
       "  </tbody>\n",
       "</table>\n",
       "</div>"
      ],
      "text/plain": [
       "  Region  Salary  loo_Region\n",
       "0     NY     100  126.666667\n",
       "1     SF     120  130.000000\n",
       "2     NY     150  126.666667\n",
       "3     NY     130  126.666667\n",
       "4     SF     140  130.000000\n",
       "5     CT      90   90.000000"
      ]
     },
     "execution_count": 46,
     "metadata": {},
     "output_type": "execute_result"
    }
   ],
   "source": [
    "X_test"
   ]
  },
  {
   "cell_type": "markdown",
   "metadata": {},
   "source": [
    "### hcc_LOOEncodingKfold\n",
    "\n",
    "https://github.com/Robin888/hccEncoding-project/blob/master/hccEncoding/EncoderForRegression.py\n",
    "\n",
    "Logic: It calculates the encoded value using the LOOEncoding as shown above with KfoldcrossValidation \n",
    " "
   ]
  },
  {
   "cell_type": "code",
   "execution_count": 10,
   "metadata": {},
   "outputs": [
    {
     "data": {
      "text/html": [
       "<div>\n",
       "<style scoped>\n",
       "    .dataframe tbody tr th:only-of-type {\n",
       "        vertical-align: middle;\n",
       "    }\n",
       "\n",
       "    .dataframe tbody tr th {\n",
       "        vertical-align: top;\n",
       "    }\n",
       "\n",
       "    .dataframe thead th {\n",
       "        text-align: right;\n",
       "    }\n",
       "</style>\n",
       "<table border=\"1\" class=\"dataframe\">\n",
       "  <thead>\n",
       "    <tr style=\"text-align: right;\">\n",
       "      <th></th>\n",
       "      <th>Region</th>\n",
       "      <th>Salary</th>\n",
       "      <th>loo_Region</th>\n",
       "    </tr>\n",
       "  </thead>\n",
       "  <tbody>\n",
       "    <tr>\n",
       "      <th>0</th>\n",
       "      <td>NY</td>\n",
       "      <td>100</td>\n",
       "      <td>140.0</td>\n",
       "    </tr>\n",
       "    <tr>\n",
       "      <th>1</th>\n",
       "      <td>SF</td>\n",
       "      <td>120</td>\n",
       "      <td>140.0</td>\n",
       "    </tr>\n",
       "    <tr>\n",
       "      <th>2</th>\n",
       "      <td>NY</td>\n",
       "      <td>150</td>\n",
       "      <td>115.0</td>\n",
       "    </tr>\n",
       "    <tr>\n",
       "      <th>3</th>\n",
       "      <td>NY</td>\n",
       "      <td>130</td>\n",
       "      <td>125.0</td>\n",
       "    </tr>\n",
       "    <tr>\n",
       "      <th>4</th>\n",
       "      <td>SF</td>\n",
       "      <td>140</td>\n",
       "      <td>120.0</td>\n",
       "    </tr>\n",
       "    <tr>\n",
       "      <th>5</th>\n",
       "      <td>CT</td>\n",
       "      <td>90</td>\n",
       "      <td>128.0</td>\n",
       "    </tr>\n",
       "  </tbody>\n",
       "</table>\n",
       "</div>"
      ],
      "text/plain": [
       "  Region  Salary  loo_Region\n",
       "0     NY     100       140.0\n",
       "1     SF     120       140.0\n",
       "2     NY     150       115.0\n",
       "3     NY     130       125.0\n",
       "4     SF     140       120.0\n",
       "5     CT      90       128.0"
      ]
     },
     "execution_count": 10,
     "metadata": {},
     "output_type": "execute_result"
    }
   ],
   "source": [
    "from hccEncoding.EncoderForRegression import LOOEncodingKfold\n",
    "\n",
    "X_train, X_test=LOOEncodingKfold(train=df,test=df,target='Salary', feature='Region', drop_origin_feature=False, noise=0)\n",
    "X_train"
   ]
  },
  {
   "cell_type": "code",
   "execution_count": 11,
   "metadata": {},
   "outputs": [
    {
     "data": {
      "text/html": [
       "<div>\n",
       "<style scoped>\n",
       "    .dataframe tbody tr th:only-of-type {\n",
       "        vertical-align: middle;\n",
       "    }\n",
       "\n",
       "    .dataframe tbody tr th {\n",
       "        vertical-align: top;\n",
       "    }\n",
       "\n",
       "    .dataframe thead th {\n",
       "        text-align: right;\n",
       "    }\n",
       "</style>\n",
       "<table border=\"1\" class=\"dataframe\">\n",
       "  <thead>\n",
       "    <tr style=\"text-align: right;\">\n",
       "      <th></th>\n",
       "      <th>Region</th>\n",
       "      <th>Salary</th>\n",
       "      <th>loo_Region</th>\n",
       "    </tr>\n",
       "  </thead>\n",
       "  <tbody>\n",
       "    <tr>\n",
       "      <th>0</th>\n",
       "      <td>NY</td>\n",
       "      <td>100</td>\n",
       "      <td>126.666667</td>\n",
       "    </tr>\n",
       "    <tr>\n",
       "      <th>1</th>\n",
       "      <td>SF</td>\n",
       "      <td>120</td>\n",
       "      <td>130.000000</td>\n",
       "    </tr>\n",
       "    <tr>\n",
       "      <th>2</th>\n",
       "      <td>NY</td>\n",
       "      <td>150</td>\n",
       "      <td>126.666667</td>\n",
       "    </tr>\n",
       "    <tr>\n",
       "      <th>3</th>\n",
       "      <td>NY</td>\n",
       "      <td>130</td>\n",
       "      <td>126.666667</td>\n",
       "    </tr>\n",
       "    <tr>\n",
       "      <th>4</th>\n",
       "      <td>SF</td>\n",
       "      <td>140</td>\n",
       "      <td>130.000000</td>\n",
       "    </tr>\n",
       "    <tr>\n",
       "      <th>5</th>\n",
       "      <td>CT</td>\n",
       "      <td>90</td>\n",
       "      <td>90.000000</td>\n",
       "    </tr>\n",
       "  </tbody>\n",
       "</table>\n",
       "</div>"
      ],
      "text/plain": [
       "  Region  Salary  loo_Region\n",
       "0     NY     100  126.666667\n",
       "1     SF     120  130.000000\n",
       "2     NY     150  126.666667\n",
       "3     NY     130  126.666667\n",
       "4     SF     140  130.000000\n",
       "5     CT      90   90.000000"
      ]
     },
     "execution_count": 11,
     "metadata": {},
     "output_type": "execute_result"
    }
   ],
   "source": [
    "X_test"
   ]
  }
 ],
 "metadata": {
  "kernelspec": {
   "display_name": "Python 3",
   "language": "python",
   "name": "python3"
  },
  "language_info": {
   "codemirror_mode": {
    "name": "ipython",
    "version": 3
   },
   "file_extension": ".py",
   "mimetype": "text/x-python",
   "name": "python",
   "nbconvert_exporter": "python",
   "pygments_lexer": "ipython3",
   "version": "3.6.8"
  }
 },
 "nbformat": 4,
 "nbformat_minor": 2
}
